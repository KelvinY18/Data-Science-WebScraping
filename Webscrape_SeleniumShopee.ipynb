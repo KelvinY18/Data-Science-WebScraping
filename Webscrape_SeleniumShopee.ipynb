{
  "nbformat": 4,
  "nbformat_minor": 0,
  "metadata": {
    "colab": {
      "provenance": [],
      "authorship_tag": "ABX9TyNgcr/cRIIZ1IRAimpJBf/d",
      "include_colab_link": true
    },
    "kernelspec": {
      "name": "python3",
      "display_name": "Python 3"
    },
    "language_info": {
      "name": "python"
    }
  },
  "cells": [
    {
      "cell_type": "markdown",
      "metadata": {
        "id": "view-in-github",
        "colab_type": "text"
      },
      "source": [
        "<a href=\"https://colab.research.google.com/github/KelvinY18/Data-Science-WebScraping/blob/main/Webscrape_SeleniumShopee.ipynb\" target=\"_parent\"><img src=\"https://colab.research.google.com/assets/colab-badge.svg\" alt=\"Open In Colab\"/></a>"
      ]
    },
    {
      "cell_type": "code",
      "metadata": {
        "colab": {
          "base_uri": "https://localhost:8080/"
        },
        "id": "nYqeduHojaJq",
        "outputId": "e5d0d838-2fe5-4c87-ba4c-353f03848044"
      },
      "source": [
        "# Installing Selenium\n",
        "\n",
        "!pip install selenium"
      ],
      "execution_count": null,
      "outputs": [
        {
          "output_type": "stream",
          "text": [
            "Collecting selenium\n",
            "  Downloading selenium-3.141.0-py2.py3-none-any.whl (904 kB)\n",
            "\u001b[?25l\r\u001b[K     |▍                               | 10 kB 19.6 MB/s eta 0:00:01\r\u001b[K     |▊                               | 20 kB 9.4 MB/s eta 0:00:01\r\u001b[K     |█                               | 30 kB 7.8 MB/s eta 0:00:01\r\u001b[K     |█▌                              | 40 kB 7.5 MB/s eta 0:00:01\r\u001b[K     |█▉                              | 51 kB 4.0 MB/s eta 0:00:01\r\u001b[K     |██▏                             | 61 kB 4.3 MB/s eta 0:00:01\r\u001b[K     |██▌                             | 71 kB 4.5 MB/s eta 0:00:01\r\u001b[K     |███                             | 81 kB 5.0 MB/s eta 0:00:01\r\u001b[K     |███▎                            | 92 kB 3.8 MB/s eta 0:00:01\r\u001b[K     |███▋                            | 102 kB 4.1 MB/s eta 0:00:01\r\u001b[K     |████                            | 112 kB 4.1 MB/s eta 0:00:01\r\u001b[K     |████▍                           | 122 kB 4.1 MB/s eta 0:00:01\r\u001b[K     |████▊                           | 133 kB 4.1 MB/s eta 0:00:01\r\u001b[K     |█████                           | 143 kB 4.1 MB/s eta 0:00:01\r\u001b[K     |█████▍                          | 153 kB 4.1 MB/s eta 0:00:01\r\u001b[K     |█████▉                          | 163 kB 4.1 MB/s eta 0:00:01\r\u001b[K     |██████▏                         | 174 kB 4.1 MB/s eta 0:00:01\r\u001b[K     |██████▌                         | 184 kB 4.1 MB/s eta 0:00:01\r\u001b[K     |██████▉                         | 194 kB 4.1 MB/s eta 0:00:01\r\u001b[K     |███████▎                        | 204 kB 4.1 MB/s eta 0:00:01\r\u001b[K     |███████▋                        | 215 kB 4.1 MB/s eta 0:00:01\r\u001b[K     |████████                        | 225 kB 4.1 MB/s eta 0:00:01\r\u001b[K     |████████▎                       | 235 kB 4.1 MB/s eta 0:00:01\r\u001b[K     |████████▊                       | 245 kB 4.1 MB/s eta 0:00:01\r\u001b[K     |█████████                       | 256 kB 4.1 MB/s eta 0:00:01\r\u001b[K     |█████████▍                      | 266 kB 4.1 MB/s eta 0:00:01\r\u001b[K     |█████████▉                      | 276 kB 4.1 MB/s eta 0:00:01\r\u001b[K     |██████████▏                     | 286 kB 4.1 MB/s eta 0:00:01\r\u001b[K     |██████████▌                     | 296 kB 4.1 MB/s eta 0:00:01\r\u001b[K     |██████████▉                     | 307 kB 4.1 MB/s eta 0:00:01\r\u001b[K     |███████████▎                    | 317 kB 4.1 MB/s eta 0:00:01\r\u001b[K     |███████████▋                    | 327 kB 4.1 MB/s eta 0:00:01\r\u001b[K     |████████████                    | 337 kB 4.1 MB/s eta 0:00:01\r\u001b[K     |████████████▎                   | 348 kB 4.1 MB/s eta 0:00:01\r\u001b[K     |████████████▊                   | 358 kB 4.1 MB/s eta 0:00:01\r\u001b[K     |█████████████                   | 368 kB 4.1 MB/s eta 0:00:01\r\u001b[K     |█████████████▍                  | 378 kB 4.1 MB/s eta 0:00:01\r\u001b[K     |█████████████▊                  | 389 kB 4.1 MB/s eta 0:00:01\r\u001b[K     |██████████████▏                 | 399 kB 4.1 MB/s eta 0:00:01\r\u001b[K     |██████████████▌                 | 409 kB 4.1 MB/s eta 0:00:01\r\u001b[K     |██████████████▉                 | 419 kB 4.1 MB/s eta 0:00:01\r\u001b[K     |███████████████▏                | 430 kB 4.1 MB/s eta 0:00:01\r\u001b[K     |███████████████▋                | 440 kB 4.1 MB/s eta 0:00:01\r\u001b[K     |████████████████                | 450 kB 4.1 MB/s eta 0:00:01\r\u001b[K     |████████████████▎               | 460 kB 4.1 MB/s eta 0:00:01\r\u001b[K     |████████████████▋               | 471 kB 4.1 MB/s eta 0:00:01\r\u001b[K     |█████████████████               | 481 kB 4.1 MB/s eta 0:00:01\r\u001b[K     |█████████████████▍              | 491 kB 4.1 MB/s eta 0:00:01\r\u001b[K     |█████████████████▊              | 501 kB 4.1 MB/s eta 0:00:01\r\u001b[K     |██████████████████▏             | 512 kB 4.1 MB/s eta 0:00:01\r\u001b[K     |██████████████████▌             | 522 kB 4.1 MB/s eta 0:00:01\r\u001b[K     |██████████████████▉             | 532 kB 4.1 MB/s eta 0:00:01\r\u001b[K     |███████████████████▏            | 542 kB 4.1 MB/s eta 0:00:01\r\u001b[K     |███████████████████▋            | 552 kB 4.1 MB/s eta 0:00:01\r\u001b[K     |████████████████████            | 563 kB 4.1 MB/s eta 0:00:01\r\u001b[K     |████████████████████▎           | 573 kB 4.1 MB/s eta 0:00:01\r\u001b[K     |████████████████████▋           | 583 kB 4.1 MB/s eta 0:00:01\r\u001b[K     |█████████████████████           | 593 kB 4.1 MB/s eta 0:00:01\r\u001b[K     |█████████████████████▍          | 604 kB 4.1 MB/s eta 0:00:01\r\u001b[K     |█████████████████████▊          | 614 kB 4.1 MB/s eta 0:00:01\r\u001b[K     |██████████████████████          | 624 kB 4.1 MB/s eta 0:00:01\r\u001b[K     |██████████████████████▌         | 634 kB 4.1 MB/s eta 0:00:01\r\u001b[K     |██████████████████████▉         | 645 kB 4.1 MB/s eta 0:00:01\r\u001b[K     |███████████████████████▏        | 655 kB 4.1 MB/s eta 0:00:01\r\u001b[K     |███████████████████████▌        | 665 kB 4.1 MB/s eta 0:00:01\r\u001b[K     |████████████████████████        | 675 kB 4.1 MB/s eta 0:00:01\r\u001b[K     |████████████████████████▎       | 686 kB 4.1 MB/s eta 0:00:01\r\u001b[K     |████████████████████████▋       | 696 kB 4.1 MB/s eta 0:00:01\r\u001b[K     |█████████████████████████       | 706 kB 4.1 MB/s eta 0:00:01\r\u001b[K     |█████████████████████████▍      | 716 kB 4.1 MB/s eta 0:00:01\r\u001b[K     |█████████████████████████▊      | 727 kB 4.1 MB/s eta 0:00:01\r\u001b[K     |██████████████████████████      | 737 kB 4.1 MB/s eta 0:00:01\r\u001b[K     |██████████████████████████▍     | 747 kB 4.1 MB/s eta 0:00:01\r\u001b[K     |██████████████████████████▉     | 757 kB 4.1 MB/s eta 0:00:01\r\u001b[K     |███████████████████████████▏    | 768 kB 4.1 MB/s eta 0:00:01\r\u001b[K     |███████████████████████████▌    | 778 kB 4.1 MB/s eta 0:00:01\r\u001b[K     |████████████████████████████    | 788 kB 4.1 MB/s eta 0:00:01\r\u001b[K     |████████████████████████████▎   | 798 kB 4.1 MB/s eta 0:00:01\r\u001b[K     |████████████████████████████▋   | 808 kB 4.1 MB/s eta 0:00:01\r\u001b[K     |█████████████████████████████   | 819 kB 4.1 MB/s eta 0:00:01\r\u001b[K     |█████████████████████████████▍  | 829 kB 4.1 MB/s eta 0:00:01\r\u001b[K     |█████████████████████████████▊  | 839 kB 4.1 MB/s eta 0:00:01\r\u001b[K     |██████████████████████████████  | 849 kB 4.1 MB/s eta 0:00:01\r\u001b[K     |██████████████████████████████▍ | 860 kB 4.1 MB/s eta 0:00:01\r\u001b[K     |██████████████████████████████▉ | 870 kB 4.1 MB/s eta 0:00:01\r\u001b[K     |███████████████████████████████▏| 880 kB 4.1 MB/s eta 0:00:01\r\u001b[K     |███████████████████████████████▌| 890 kB 4.1 MB/s eta 0:00:01\r\u001b[K     |███████████████████████████████▉| 901 kB 4.1 MB/s eta 0:00:01\r\u001b[K     |████████████████████████████████| 904 kB 4.1 MB/s \n",
            "\u001b[?25hRequirement already satisfied: urllib3 in /usr/local/lib/python3.7/dist-packages (from selenium) (1.24.3)\n",
            "Installing collected packages: selenium\n",
            "Successfully installed selenium-3.141.0\n"
          ],
          "name": "stdout"
        }
      ]
    },
    {
      "cell_type": "code",
      "metadata": {
        "id": "fA7MZgdgjom5"
      },
      "source": [
        "import selenium\n",
        "from selenium import webdriver\n",
        "import time\n",
        "from bs4 import BeautifulSoup"
      ],
      "execution_count": null,
      "outputs": []
    },
    {
      "cell_type": "code",
      "metadata": {
        "colab": {
          "base_uri": "https://localhost:8080/",
          "height": 425
        },
        "id": "XM27UmdWjov2",
        "outputId": "68b66afb-bdfa-4f3f-927c-324044f4e966"
      },
      "source": [
        "# specify the location of web driver\n",
        "\n",
        "driver = webdriver.Chrome(executable_path='D:\\\\driver\\\\chromedriver.exe')\n",
        "url = 'https://shopee.com.my/search?keyword=jeans'\n",
        "driver.get(url)\n",
        "time.sleep(5)\n",
        "btn = driver.find_element_by_xpath('//*[@id=\"modal\"]/div[1]/div[1]/div/div[3]/div[1]/button')\n",
        "btn.click()\n",
        "time.sleep(2)\n",
        "driver.maximize_window()"
      ],
      "execution_count": null,
      "outputs": [
        {
          "output_type": "error",
          "ename": "WebDriverException",
          "evalue": "ignored",
          "traceback": [
            "\u001b[0;31m---------------------------------------------------------------------------\u001b[0m",
            "\u001b[0;31mFileNotFoundError\u001b[0m                         Traceback (most recent call last)",
            "\u001b[0;32m/usr/local/lib/python3.7/dist-packages/selenium/webdriver/common/service.py\u001b[0m in \u001b[0;36mstart\u001b[0;34m(self)\u001b[0m\n\u001b[1;32m     75\u001b[0m                                             \u001b[0mstderr\u001b[0m\u001b[0;34m=\u001b[0m\u001b[0mself\u001b[0m\u001b[0;34m.\u001b[0m\u001b[0mlog_file\u001b[0m\u001b[0;34m,\u001b[0m\u001b[0;34m\u001b[0m\u001b[0;34m\u001b[0m\u001b[0m\n\u001b[0;32m---> 76\u001b[0;31m                                             stdin=PIPE)\n\u001b[0m\u001b[1;32m     77\u001b[0m         \u001b[0;32mexcept\u001b[0m \u001b[0mTypeError\u001b[0m\u001b[0;34m:\u001b[0m\u001b[0;34m\u001b[0m\u001b[0;34m\u001b[0m\u001b[0m\n",
            "\u001b[0;32m/usr/lib/python3.7/subprocess.py\u001b[0m in \u001b[0;36m__init__\u001b[0;34m(self, args, bufsize, executable, stdin, stdout, stderr, preexec_fn, close_fds, shell, cwd, env, universal_newlines, startupinfo, creationflags, restore_signals, start_new_session, pass_fds, encoding, errors, text)\u001b[0m\n\u001b[1;32m    799\u001b[0m                                 \u001b[0merrread\u001b[0m\u001b[0;34m,\u001b[0m \u001b[0merrwrite\u001b[0m\u001b[0;34m,\u001b[0m\u001b[0;34m\u001b[0m\u001b[0;34m\u001b[0m\u001b[0m\n\u001b[0;32m--> 800\u001b[0;31m                                 restore_signals, start_new_session)\n\u001b[0m\u001b[1;32m    801\u001b[0m         \u001b[0;32mexcept\u001b[0m\u001b[0;34m:\u001b[0m\u001b[0;34m\u001b[0m\u001b[0;34m\u001b[0m\u001b[0m\n",
            "\u001b[0;32m/usr/lib/python3.7/subprocess.py\u001b[0m in \u001b[0;36m_execute_child\u001b[0;34m(self, args, executable, preexec_fn, close_fds, pass_fds, cwd, env, startupinfo, creationflags, shell, p2cread, p2cwrite, c2pread, c2pwrite, errread, errwrite, restore_signals, start_new_session)\u001b[0m\n\u001b[1;32m   1550\u001b[0m                             \u001b[0merr_msg\u001b[0m \u001b[0;34m+=\u001b[0m \u001b[0;34m': '\u001b[0m \u001b[0;34m+\u001b[0m \u001b[0mrepr\u001b[0m\u001b[0;34m(\u001b[0m\u001b[0merr_filename\u001b[0m\u001b[0;34m)\u001b[0m\u001b[0;34m\u001b[0m\u001b[0;34m\u001b[0m\u001b[0m\n\u001b[0;32m-> 1551\u001b[0;31m                     \u001b[0;32mraise\u001b[0m \u001b[0mchild_exception_type\u001b[0m\u001b[0;34m(\u001b[0m\u001b[0merrno_num\u001b[0m\u001b[0;34m,\u001b[0m \u001b[0merr_msg\u001b[0m\u001b[0;34m,\u001b[0m \u001b[0merr_filename\u001b[0m\u001b[0;34m)\u001b[0m\u001b[0;34m\u001b[0m\u001b[0;34m\u001b[0m\u001b[0m\n\u001b[0m\u001b[1;32m   1552\u001b[0m                 \u001b[0;32mraise\u001b[0m \u001b[0mchild_exception_type\u001b[0m\u001b[0;34m(\u001b[0m\u001b[0merr_msg\u001b[0m\u001b[0;34m)\u001b[0m\u001b[0;34m\u001b[0m\u001b[0;34m\u001b[0m\u001b[0m\n",
            "\u001b[0;31mFileNotFoundError\u001b[0m: [Errno 2] No such file or directory: 'D:\\\\driver\\\\chromedriver.exe': 'D:\\\\driver\\\\chromedriver.exe'",
            "\nDuring handling of the above exception, another exception occurred:\n",
            "\u001b[0;31mWebDriverException\u001b[0m                        Traceback (most recent call last)",
            "\u001b[0;32m<ipython-input-3-7f0a1e52e76e>\u001b[0m in \u001b[0;36m<module>\u001b[0;34m()\u001b[0m\n\u001b[1;32m      1\u001b[0m \u001b[0;31m# specify the location of web driver\u001b[0m\u001b[0;34m\u001b[0m\u001b[0;34m\u001b[0m\u001b[0;34m\u001b[0m\u001b[0m\n\u001b[1;32m      2\u001b[0m \u001b[0;34m\u001b[0m\u001b[0m\n\u001b[0;32m----> 3\u001b[0;31m \u001b[0mdriver\u001b[0m \u001b[0;34m=\u001b[0m \u001b[0mwebdriver\u001b[0m\u001b[0;34m.\u001b[0m\u001b[0mChrome\u001b[0m\u001b[0;34m(\u001b[0m\u001b[0mexecutable_path\u001b[0m\u001b[0;34m=\u001b[0m\u001b[0;34m'D:\\\\driver\\\\chromedriver.exe'\u001b[0m\u001b[0;34m)\u001b[0m\u001b[0;34m\u001b[0m\u001b[0;34m\u001b[0m\u001b[0m\n\u001b[0m\u001b[1;32m      4\u001b[0m \u001b[0murl\u001b[0m \u001b[0;34m=\u001b[0m \u001b[0;34m'https://shopee.com.my/search?keyword=jeans'\u001b[0m\u001b[0;34m\u001b[0m\u001b[0;34m\u001b[0m\u001b[0m\n\u001b[1;32m      5\u001b[0m \u001b[0mdriver\u001b[0m\u001b[0;34m.\u001b[0m\u001b[0mget\u001b[0m\u001b[0;34m(\u001b[0m\u001b[0murl\u001b[0m\u001b[0;34m)\u001b[0m\u001b[0;34m\u001b[0m\u001b[0;34m\u001b[0m\u001b[0m\n",
            "\u001b[0;32m/usr/local/lib/python3.7/dist-packages/selenium/webdriver/chrome/webdriver.py\u001b[0m in \u001b[0;36m__init__\u001b[0;34m(self, executable_path, port, options, service_args, desired_capabilities, service_log_path, chrome_options, keep_alive)\u001b[0m\n\u001b[1;32m     71\u001b[0m             \u001b[0mservice_args\u001b[0m\u001b[0;34m=\u001b[0m\u001b[0mservice_args\u001b[0m\u001b[0;34m,\u001b[0m\u001b[0;34m\u001b[0m\u001b[0;34m\u001b[0m\u001b[0m\n\u001b[1;32m     72\u001b[0m             log_path=service_log_path)\n\u001b[0;32m---> 73\u001b[0;31m         \u001b[0mself\u001b[0m\u001b[0;34m.\u001b[0m\u001b[0mservice\u001b[0m\u001b[0;34m.\u001b[0m\u001b[0mstart\u001b[0m\u001b[0;34m(\u001b[0m\u001b[0;34m)\u001b[0m\u001b[0;34m\u001b[0m\u001b[0;34m\u001b[0m\u001b[0m\n\u001b[0m\u001b[1;32m     74\u001b[0m \u001b[0;34m\u001b[0m\u001b[0m\n\u001b[1;32m     75\u001b[0m         \u001b[0;32mtry\u001b[0m\u001b[0;34m:\u001b[0m\u001b[0;34m\u001b[0m\u001b[0;34m\u001b[0m\u001b[0m\n",
            "\u001b[0;32m/usr/local/lib/python3.7/dist-packages/selenium/webdriver/common/service.py\u001b[0m in \u001b[0;36mstart\u001b[0;34m(self)\u001b[0m\n\u001b[1;32m     81\u001b[0m                 raise WebDriverException(\n\u001b[1;32m     82\u001b[0m                     \"'%s' executable needs to be in PATH. %s\" % (\n\u001b[0;32m---> 83\u001b[0;31m                         os.path.basename(self.path), self.start_error_message)\n\u001b[0m\u001b[1;32m     84\u001b[0m                 )\n\u001b[1;32m     85\u001b[0m             \u001b[0;32melif\u001b[0m \u001b[0merr\u001b[0m\u001b[0;34m.\u001b[0m\u001b[0merrno\u001b[0m \u001b[0;34m==\u001b[0m \u001b[0merrno\u001b[0m\u001b[0;34m.\u001b[0m\u001b[0mEACCES\u001b[0m\u001b[0;34m:\u001b[0m\u001b[0;34m\u001b[0m\u001b[0;34m\u001b[0m\u001b[0m\n",
            "\u001b[0;31mWebDriverException\u001b[0m: Message: 'D:\\driver\\chromedriver.exe' executable needs to be in PATH. Please see https://sites.google.com/a/chromium.org/chromedriver/home\n"
          ]
        }
      ]
    },
    {
      "cell_type": "code",
      "metadata": {
        "id": "ussz2f4ejo2e"
      },
      "source": [
        "# getting the products information using Selenium\n",
        "\n",
        "product_cards = driver.find_elements_by_class_name('col-xs-2-4')\n",
        "time.sleep(5)\n",
        "print(len(product_cards))"
      ],
      "execution_count": null,
      "outputs": []
    },
    {
      "cell_type": "code",
      "metadata": {
        "id": "ve3rTdSwjwcl"
      },
      "source": [
        "# using single card\n",
        "\n",
        "card = product_cards[0]"
      ],
      "execution_count": null,
      "outputs": []
    },
    {
      "cell_type": "code",
      "metadata": {
        "id": "CKPcNWavjwgx"
      },
      "source": [
        "#Product_Image   #Product_Name   #Product_Price   #Product_Buy_Link\n",
        "\n",
        "product_image = card.find_element_by_tag_name('img')\n",
        "productImg = product_image.get_attribute('src')\n",
        "print(productImg)"
      ],
      "execution_count": null,
      "outputs": []
    },
    {
      "cell_type": "code",
      "metadata": {
        "id": "0pupjSY2j2bR"
      },
      "source": [],
      "execution_count": null,
      "outputs": []
    },
    {
      "cell_type": "code",
      "metadata": {
        "id": "Mhe-SQBMj2io"
      },
      "source": [],
      "execution_count": null,
      "outputs": []
    },
    {
      "cell_type": "code",
      "metadata": {
        "id": "h2NniEwlj3I7"
      },
      "source": [],
      "execution_count": null,
      "outputs": []
    },
    {
      "cell_type": "code",
      "metadata": {
        "id": "8WWSIXi3jwl-"
      },
      "source": [
        "# using BeautifulSoup\n",
        "\n",
        "# getting products information\n",
        "# create a BeautiuflSoup object\n",
        "\n",
        "soup = BeautifulSoup(driver.page_source,'html.parser')"
      ],
      "execution_count": null,
      "outputs": []
    },
    {
      "cell_type": "code",
      "metadata": {
        "id": "ZGzcEjEsj7yT"
      },
      "source": [
        "product_cards = soup.find_all('div','col-xs-2-4')\n",
        "print(len(product_cards))"
      ],
      "execution_count": null,
      "outputs": []
    },
    {
      "cell_type": "code",
      "metadata": {
        "id": "-YIvefakj72D"
      },
      "source": [
        "# prototyping using single card\n",
        "\n",
        "card = product_cards[0]"
      ],
      "execution_count": null,
      "outputs": []
    },
    {
      "cell_type": "code",
      "metadata": {
        "id": "RMjwZkpuj75w"
      },
      "source": [
        "pImg = card.find('img','mxM4vG _2GchKS')\n",
        "product_image = pImg['src']\n",
        "print(product_image)"
      ],
      "execution_count": null,
      "outputs": []
    },
    {
      "cell_type": "code",
      "metadata": {
        "id": "MDDdoxWskC63"
      },
      "source": [
        "product_name = card.find('div','yQmmFK _1POlWt _36CEnF').text.strip()\n",
        "print(product_name)"
      ],
      "execution_count": null,
      "outputs": []
    },
    {
      "cell_type": "code",
      "metadata": {
        "id": "iiChOIO4kC_N"
      },
      "source": [
        "product_price = card.find('span','_24JoLh').text.strip()\n",
        "print(product_price)"
      ],
      "execution_count": null,
      "outputs": []
    },
    {
      "cell_type": "code",
      "metadata": {
        "id": "ufVGK0YMj78y"
      },
      "source": [
        "anchor_tag = card.a.get('href')\n",
        "product_buy_link = 'https://shopee.com.my'+anchor_tag\n",
        "print(product_buy_link)"
      ],
      "execution_count": null,
      "outputs": []
    }
  ]
}